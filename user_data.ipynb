{
 "cells": [
  {
   "cell_type": "code",
   "execution_count": 1,
   "metadata": {},
   "outputs": [],
   "source": [
    "import pandas as pd\n",
    "import matplotlib.pyplot as plt\n",
    "import numpy as np\n",
    "import datetime"
   ]
  },
  {
   "cell_type": "code",
   "execution_count": 51,
   "metadata": {},
   "outputs": [
    {
     "name": "stdout",
     "output_type": "stream",
     "text": [
      "Read 42830024 rows\n"
     ]
    }
   ],
   "source": [
    "# Reading File\n",
    "rel_data = pd.read_csv(\"data/UserAnimeList.csv\", usecols=[\"username\", \"anime_id\", \"my_score\"])\n",
    "\n",
    "rel_data = rel_data[rel_data[\"my_score\"] != 0.0]\n",
    "\n",
    "anime_by_watched = rel_data[\"anime_id\"].value_counts()\n",
    "pop_anime = anime_by_watched[anime_by_watched >= 2000] # only including anime with at least 2000 rated users\n",
    "rel_data = rel_data[rel_data[\"anime_id\"].isin(pop_anime.index)]\n",
    "rel_data = rel_data.reset_index(drop=True)\n",
    "\n",
    "print(\"Read\", len(rel_data.index), \"rows\")\n"
   ]
  },
  {
   "cell_type": "code",
   "execution_count": 52,
   "metadata": {},
   "outputs": [
    {
     "name": "stdout",
     "output_type": "stream",
     "text": [
      "Unique Users: 271259\n",
      "Unique Anime: 3418\n"
     ]
    }
   ],
   "source": [
    "unique_users = rel_data[\"username\"].unique()\n",
    "unique_anime = rel_data[\"anime_id\"].unique()\n",
    "\n",
    "print(\"Unique Users:\",len(unique_users))\n",
    "print(\"Unique Anime:\",len(unique_anime))"
   ]
  },
  {
   "cell_type": "code",
   "execution_count": 53,
   "metadata": {},
   "outputs": [],
   "source": [
    "# Creating map from their id to our id\n",
    "anime_id_map = {}\n",
    "for idx in range(len(unique_anime)):\n",
    "    anime_id_map[unique_anime[idx]] = idx"
   ]
  },
  {
   "cell_type": "code",
   "execution_count": 54,
   "metadata": {},
   "outputs": [
    {
     "name": "stdout",
     "output_type": "stream",
     "text": [
      "Read 53 rows\n",
      "Read 2000134 rows\n",
      "Read 3000137 rows\n",
      "Read 3000152 rows\n",
      "Read 4000110 rows\n",
      "Read 6000052 rows\n",
      "Read 6000125 rows\n",
      "Read 8000079 rows\n",
      "Read 9000152 rows\n",
      "Read 10000147 rows\n",
      "Read 12000136 rows\n",
      "Read 12000191 rows\n",
      "Read 14000010 rows\n",
      "Read 16000185 rows\n",
      "Read 17000085 rows\n",
      "Read 18000155 rows\n"
     ]
    }
   ],
   "source": [
    "# Making user vectors\n",
    "count = 0\n",
    "all_user_data = []\n",
    "for user in unique_users:\n",
    "    start = count\n",
    "    while (count < len(rel_data.index) and rel_data[\"username\"].iloc[count] == user):\n",
    "        count += 1\n",
    "    if (count % 1000000 < 200):\n",
    "        print(\"Read\", count, \"rows\", flush=True)\n",
    "    user_anime = rel_data[start:count][[\"anime_id\", \"my_score\"]]\n",
    "    user_data = pd.Series(np.zeros(len(unique_anime)))\n",
    "    user_data[user_anime[\"anime_id\"].apply(lambda x: anime_id_map[x])] = user_anime[\"my_score\"]\n",
    "    all_user_data.append(user_data)"
   ]
  },
  {
   "cell_type": "code",
   "execution_count": 57,
   "metadata": {},
   "outputs": [],
   "source": [
    "step = 20000\n",
    "pd.DataFrame(all_user_data[:step]).to_csv(\"clean_data/users1.csv\", index=False)\n"
   ]
  },
  {
   "cell_type": "code",
   "execution_count": 58,
   "metadata": {},
   "outputs": [],
   "source": [
    "pd.DataFrame(all_user_data[step:2 * step]).to_csv(\"clean_data/users2.csv\", index=False)\n"
   ]
  },
  {
   "cell_type": "code",
   "execution_count": 59,
   "metadata": {},
   "outputs": [],
   "source": [
    "pd.DataFrame(all_user_data[2 * step:3 * step]).to_csv(\"clean_data/users3.csv\", index=False)\n"
   ]
  },
  {
   "cell_type": "code",
   "execution_count": 60,
   "metadata": {},
   "outputs": [],
   "source": [
    "pd.DataFrame(all_user_data[3 * step:4 * step]).to_csv(\"clean_data/users4.csv\", index=False)\n"
   ]
  },
  {
   "cell_type": "code",
   "execution_count": 61,
   "metadata": {},
   "outputs": [],
   "source": [
    "np.savetxt(\"clean_data/anime_id_map_reverse.csv\", unique_anime.astype(np.int), delimiter=\",\")\n"
   ]
  },
  {
   "cell_type": "code",
   "execution_count": null,
   "metadata": {},
   "outputs": [],
   "source": []
  }
 ],
 "metadata": {
  "kernelspec": {
   "display_name": "Python 3",
   "language": "python",
   "name": "python3"
  },
  "language_info": {
   "codemirror_mode": {
    "name": "ipython",
    "version": 3
   },
   "file_extension": ".py",
   "mimetype": "text/x-python",
   "name": "python",
   "nbconvert_exporter": "python",
   "pygments_lexer": "ipython3",
   "version": "3.7.3"
  }
 },
 "nbformat": 4,
 "nbformat_minor": 4
}
